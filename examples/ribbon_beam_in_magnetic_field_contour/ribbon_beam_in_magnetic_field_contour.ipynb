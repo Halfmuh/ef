{
 "cells": [
  {
   "cell_type": "markdown",
   "metadata": {},
   "source": [
    "$$X(Z) = X_0 + R\\sin(\\frac{2\\pi}{\\lambda}z+\\phi_0)$$"
   ]
  },
  {
   "cell_type": "markdown",
   "metadata": {},
   "source": [
    "$$X_0=a_0+\\frac{B_c}{B}X_c$$"
   ]
  },
  {
   "cell_type": "markdown",
   "metadata": {},
   "source": [
    "$$a_0=\\frac{1}{2\\sqrt{2}\\epsilon_0\\eta^\\frac{3}{2}}\\cdot\\frac{I_0}{B^2\\sqrt(U)}$$"
   ]
  },
  {
   "cell_type": "markdown",
   "metadata": {},
   "source": [
    "$$R=X(0)\\sqrt{\\left [1-\\frac{X_0}{X(0)} \\right]^2+\\left[\\frac{v \\tan \\gamma_0}{\\eta B X(0)} \\right]}$$"
   ]
  },
  {
   "cell_type": "markdown",
   "metadata": {},
   "source": [
    "$$\\lambda = \\frac{4\\pi}{\\sqrt{2 \\eta}} \\frac{\\sqrt{U}}{B}$$"
   ]
  },
  {
   "cell_type": "markdown",
   "metadata": {},
   "source": [
    "$$\\phi_0=-\\arctan \\left (\\left [1-\\frac{X_0}{X(0)} \\right] \\left[\\frac{v \\tan \\gamma_0}{\\eta B X(0)} \\right]^{-1} \\right)$$"
   ]
  },
  {
   "cell_type": "markdown",
   "metadata": {},
   "source": [
    "<div class=\"clearfix\" style=\"padding: 10px; padding-left: 0px\">\n",
    "<img src=\"https://raw.githubusercontent.com/epicf/ef/dev/doc/figs/ribbon_beam_in_magnetic_field_contour/countour_beam.png\" \">\n",
    "</div>\n"
   ]
  }
 ],
 "metadata": {
  "kernelspec": {
   "display_name": "Python 3",
   "language": "python",
   "name": "python3"
  },
  "language_info": {
   "codemirror_mode": {
    "name": "ipython",
    "version": 3
   },
   "file_extension": ".py",
   "mimetype": "text/x-python",
   "name": "python",
   "nbconvert_exporter": "python",
   "pygments_lexer": "ipython3",
   "version": "3.5.2"
  }
 },
 "nbformat": 4,
 "nbformat_minor": 1
}
