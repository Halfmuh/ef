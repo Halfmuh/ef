{
 "cells": [
  {
   "cell_type": "markdown",
   "metadata": {},
   "source": [
    "Let's take configuration from privious example [ribbon beam](https://github.com/epicf/ef/wiki/Ex6:-Contour-of-ribbon-beam) and add magnetic field B = 500G along Z direction. Other config parameters are left the same."
   ]
  },
  {
   "cell_type": "markdown",
   "metadata": {},
   "source": [
    "<div class=\"panel panel-default\">\n",
    "\n",
    "<div class=\"highlight highlight-source-ini\"><pre><span class=\"pl-en\">[External magnetic field]</span>\n",
    "<span class=\"pl-k\">magnetic_field_x</span> = 0.0\n",
    "<span class=\"pl-k\">magnetic_field_y</span> = 0.0\n",
    "<span class=\"pl-k\">magnetic_field_z</span> = 500.00\n",
    "<span class=\"pl-k\">speed_of_light</span> = 3.0e10</pre></div>"
   ]
  },
  {
   "cell_type": "markdown",
   "metadata": {},
   "source": [
    "Contour of ribbon beam in magnetic field is discribed by"
   ]
  },
  {
   "cell_type": "markdown",
   "metadata": {},
   "source": [
    "$$ X(Z) = X_0 + R\\sin(\\frac{2\\pi}{\\lambda}z+\\phi_0) $$"
   ]
  },
  {
   "cell_type": "markdown",
   "metadata": {},
   "source": [
    "X - coordinate along thickness of beam, Z - longitudial coordinate, X_0 - equlibrium thickness of beam, R - pulsing amplitude, lambda - wavelength of pulse, phi_0   - initial phase of pulse. "
   ]
  },
  {
   "cell_type": "markdown",
   "metadata": {},
   "source": [
    "$$ X_0=a_0+\\frac{B_c}{B}X_c $$"
   ]
  },
  {
   "cell_type": "markdown",
   "metadata": {},
   "source": [
    "a0 - minimal halfthickness of brillouin beam, Bc - magnetic field near cathode, B - magnetic field along beam, Xc - halfthickness of cathode"
   ]
  },
  {
   "cell_type": "markdown",
   "metadata": {},
   "source": [
    "$$a_0=\\frac{1}{2\\sqrt{2}\\epsilon_0\\eta^\\frac{3}{2}}\\cdot\\frac{I_0}{B^2\\sqrt(U)}$$"
   ]
  },
  {
   "cell_type": "markdown",
   "metadata": {},
   "source": [
    "I0 - linear current density, U - accelerating voltage, which corresponds particle energy, eta - charge/mass rate, epsilion_0 - electric constant"
   ]
  },
  {
   "cell_type": "markdown",
   "metadata": {},
   "source": [
    "$$R=X(0)\\sqrt{\\left [1-\\frac{X_0}{X(0)} \\right]^2+\\left[\\frac{v \\tan \\gamma_0}{\\eta B X(0)} \\right]}$$"
   ]
  },
  {
   "cell_type": "markdown",
   "metadata": {},
   "source": [
    "v - initial velocity, gamma_0 - initial angle of beam flight"
   ]
  },
  {
   "cell_type": "markdown",
   "metadata": {},
   "source": [
    "$$\\lambda = \\frac{4\\pi}{\\sqrt{2 \\eta}} \\frac{\\sqrt{U}}{B}$$"
   ]
  },
  {
   "cell_type": "markdown",
   "metadata": {},
   "source": [
    "$$\\phi_0=-\\arctan \\left (\\left [1-\\frac{X_0}{X(0)} \\right] \\left[\\frac{v \\tan \\gamma_0}{\\eta B X(0)} \\right]^{-1} \\right)$$"
   ]
  }
 ],
 "metadata": {
  "kernelspec": {
   "display_name": "Python 3",
   "language": "python",
   "name": "python3"
  },
  "language_info": {
   "codemirror_mode": {
    "name": "ipython",
    "version": 3
   },
   "file_extension": ".py",
   "mimetype": "text/x-python",
   "name": "python",
   "nbconvert_exporter": "python",
   "pygments_lexer": "ipython3",
   "version": "3.5.2"
  }
 },
 "nbformat": 4,
 "nbformat_minor": 1
}
