{
 "cells": [
  {
   "cell_type": "markdown",
   "metadata": {},
   "source": [
    "## Trajectory equations:"
   ]
  },
  {
   "cell_type": "code",
   "execution_count": 2,
   "metadata": {
    "collapsed": true
   },
   "outputs": [],
   "source": [
    "%matplotlib inline\n",
    "import matplotlib.pyplot as plt"
   ]
  },
  {
   "cell_type": "code",
   "execution_count": 3,
   "metadata": {
    "collapsed": true
   },
   "outputs": [],
   "source": [
    "from sympy import *\n",
    "init_printing()"
   ]
  },
  {
   "cell_type": "code",
   "execution_count": 81,
   "metadata": {},
   "outputs": [],
   "source": [
    "dv_i_prll, dv_i_perp = symbols(\"dv_i_prll, dv_i_perp\")\n",
    "av_a_prll, av_a_perp = symbols(\"a_prll, a_perp\")\n",
    "v_e = symbols(\"v_e\")\n",
    "t = symbols(\"t\")\n",
    "q_e, Q_i, m, M = symbols(\"q_e, Q_i, m, M\")\n",
    "rho, rho_0 = symbols(\"rho, rho_0\")\n",
    "phi = symbols(\"varphi\")\n",
    "R = symbols(\"R\")\n",
    "nu, n_e = symbols(\"nu, n_e\")\n",
    "c, eps0 = symbols(\"c, epsilon_0\")\n",
    "r, a, b = symbols(\"r, a, b\")"
   ]
  },
  {
   "cell_type": "markdown",
   "metadata": {},
   "source": [
    "Momentum transfer at single collision:\n",
    "$$\n",
    "\\begin{gather*}\n",
    "  \\Delta v_{i \\parallel} = 2 \\frac{m}{M} v_e \\cos^2 \\varphi \n",
    "  \\\\\n",
    "  \\Delta v_{i \\perp} = 2 \\frac{m}{M} v_e \\sin \\varphi \\cos \\varphi \n",
    "\\end{gather*}\n",
    "$$"
   ]
  },
  {
   "cell_type": "markdown",
   "metadata": {},
   "source": [
    "For Coulomb potential (cf. paper eq 2, LL1 paragraph 19):\n",
    "$$\n",
    "\\begin{gather*}\n",
    "  \\tan \\varphi = \\frac{ \\rho }{ \\rho_0 } \n",
    "  \\\\\n",
    "  \\rho_0 = \\frac{ q_e Q_i }{m v_e^2} \n",
    "\\end{gather*}\n",
    "$$\n",
    "where $\\rho$ is an impact parameter and $\\rho_0$ is an impact parameter corresponding to perpendicular electron rebound  ( $2 \\phi = 90^{\\circ} \\rightarrow \\phi = 45^{\\circ}$ )."
   ]
  },
  {
   "cell_type": "code",
   "execution_count": 36,
   "metadata": {},
   "outputs": [
    {
     "data": {
      "image/png": "[encoded data removed]",
      "text/latex": [
       "$$dv_{i prll} = \\frac{2 m}{M} v_{e} \\cos^{2}{\\left (\\varphi \\right )}$$"
      ],
      "text/plain": [
       "                     2        \n",
       "           2⋅m⋅vₑ⋅cos (varphi)\n",
       "dvᵢ ₚᵣₗₗ = ───────────────────\n",
       "                    M         "
      ]
     },
     "metadata": {},
     "output_type": "display_data"
    },
    {
     "data": {
      "image/png": "[encoded data removed]",
      "text/latex": [
       "$$dv_{i perp} = \\frac{2 m}{M} v_{e} \\sin{\\left (\\varphi \\right )} \\cos{\\left (\\varphi \\right )}$$"
      ],
      "text/plain": [
       "           2⋅m⋅vₑ⋅sin(varphi)⋅cos(varphi)\n",
       "dvᵢ ₚₑᵣₚ = ──────────────────────────────\n",
       "                         M               "
      ]
     },
     "metadata": {},
     "output_type": "display_data"
    },
    {
     "data": {
      "image/png": "[encoded data removed]",
      "text/latex": [
       "$$\\varphi = \\operatorname{atan}{\\left (\\frac{\\rho}{\\rho_{0}} \\right )}$$"
      ],
      "text/plain": [
       "             ⎛ρ ⎞\n",
       "varphi = atan⎜──⎟\n",
       "             ⎝ρ₀⎠"
      ]
     },
     "metadata": {},
     "output_type": "display_data"
    }
   ],
   "source": [
    "vprll_eq = Eq( dv_i_prll, 2 * m/M * v_e * cos(phi)**2)\n",
    "vperp_eq = Eq( dv_i_perp, 2 * m/M * v_e * sin(phi) * cos(phi) )\n",
    "display( vprll_eq, vperp_eq )\n",
    "eq_phi = Eq( phi, atan( rho / rho_0 ) )\n",
    "display( eq_phi )"
   ]
  },
  {
   "cell_type": "code",
   "execution_count": 37,
   "metadata": {},
   "outputs": [
    {
     "data": {
      "image/png": "[encoded data removed]",
      "text/latex": [
       "$$dv_{i prll} = \\frac{2 m v_{e}}{M \\left(\\frac{\\rho^{2}}{\\rho_{0}^{2}} + 1\\right)}$$"
      ],
      "text/plain": [
       "              2⋅m⋅vₑ  \n",
       "dvᵢ ₚᵣₗₗ = ───────────\n",
       "             ⎛  2    ⎞\n",
       "             ⎜ ρ     ⎟\n",
       "           M⋅⎜─── + 1⎟\n",
       "             ⎜  2    ⎟\n",
       "             ⎝ρ₀     ⎠"
      ]
     },
     "metadata": {},
     "output_type": "display_data"
    },
    {
     "data": {
      "image/png": "[encoded data removed]",
      "text/latex": [
       "$$dv_{i perp} = \\frac{2 m \\rho v_{e}}{M \\rho_{0} \\left(\\frac{\\rho^{2}}{\\rho_{0}^{2}} + 1\\right)}$$"
      ],
      "text/plain": [
       "              2⋅m⋅ρ⋅vₑ   \n",
       "dvᵢ ₚₑᵣₚ = ──────────────\n",
       "                ⎛  2    ⎞\n",
       "                ⎜ ρ     ⎟\n",
       "           M⋅ρ₀⋅⎜─── + 1⎟\n",
       "                ⎜  2    ⎟\n",
       "                ⎝ρ₀     ⎠"
      ]
     },
     "metadata": {},
     "output_type": "display_data"
    }
   ],
   "source": [
    "vprll_eq = Eq(vprll_eq.lhs, vprll_eq.rhs.subs( [(phi, eq_phi.rhs)] ) )\n",
    "vperp_eq = Eq(vperp_eq.lhs, vperp_eq.rhs.subs( [(phi, eq_phi.rhs)] ) )\n",
    "display( vprll_eq, vperp_eq )"
   ]
  },
  {
   "cell_type": "markdown",
   "metadata": {},
   "source": [
    "Averaging over impact parameter for parallel component:"
   ]
  },
  {
   "cell_type": "code",
   "execution_count": 71,
   "metadata": {},
   "outputs": [
    {
     "data": {
      "image/png": "[encoded data removed]",
      "text/latex": [
       "$$\\frac{2 m \\rho_{0}^{2} v_{e}}{M R^{2}} \\left(- \\log{\\left (\\rho_{0}^{2} \\right )} + \\log{\\left (R^{2} + \\rho_{0}^{2} \\right )}\\right)$$"
      ],
      "text/plain": [
       "      2    ⎛     ⎛  2⎞      ⎛ 2     2⎞⎞\n",
       "2⋅m⋅ρ₀ ⋅vₑ⋅⎝- log⎝ρ₀ ⎠ + log⎝R  + ρ₀ ⎠⎠\n",
       "───────────────────────────────────────\n",
       "                     2                 \n",
       "                  M⋅R                  "
      ]
     },
     "metadata": {},
     "output_type": "display_data"
    }
   ],
   "source": [
    "av_dv_i_prll = simplify( integrate( vprll_eq.rhs * 2 * pi * rho, (rho, 0, R) ) / integrate( 2 * pi * rho, (rho, 0, R) ) )\n",
    "av_dv_i_prll = logcombine( av_dv_i_prll )\n",
    "display( av_dv_i_prll )"
   ]
  },
  {
   "cell_type": "markdown",
   "metadata": {},
   "source": [
    "For perpendicular component the equation is unnecessary compex:"
   ]
  },
  {
   "cell_type": "code",
   "execution_count": 72,
   "metadata": {},
   "outputs": [
    {
     "data": {
      "image/png": "[encoded data removed]",
      "text/latex": [
       "$$\\frac{2 m \\rho_{0} v_{e}}{M R^{2}} \\left(2 R - i \\rho_{0} \\left(\\log{\\left (- i \\rho_{0} \\right )} - \\log{\\left (i \\rho_{0} \\right )}\\right) + i \\rho_{0} \\left(\\log{\\left (R - i \\rho_{0} \\right )} - \\log{\\left (R + i \\rho_{0} \\right )}\\right)\\right)$$"
      ],
      "text/plain": [
       "2⋅m⋅ρ₀⋅vₑ⋅(2⋅R - ⅈ⋅ρ₀⋅(log(-ⅈ⋅ρ₀) - log(ⅈ⋅ρ₀)) + ⅈ⋅ρ₀⋅(log(R - ⅈ⋅ρ₀) - log(R +\n",
       "──────────────────────────────────────────────────────────────────────────────\n",
       "                                            2                                 \n",
       "                                         M⋅R                                  \n",
       "\n",
       " ⅈ⋅ρ₀)))\n",
       "────────\n",
       "        \n",
       "        "
      ]
     },
     "metadata": {},
     "output_type": "display_data"
    }
   ],
   "source": [
    "av_dv_i_perp = simplify( integrate( vperp_eq.rhs * 2 * pi * rho, (rho, 0, R) ) / integrate( 2 * pi * rho, (rho, 0, R) ) )\n",
    "av_dv_i_perp = logcombine( av_dv_i_perp )\n",
    "display( av_dv_i_perp )"
   ]
  },
  {
   "cell_type": "markdown",
   "metadata": {},
   "source": [
    "Instead: (cf. https://www.wolframalpha.com/input/?i=integrate(+a*+r**2+%2F+(b*r**2+%2B+c),+r+) ):\n",
    "$$\n",
    "\\begin{gather*}\n",
    "  \\int \\frac{a r^2}{b r^2 + c} dr = \n",
    "  \\frac{ a r }{b} - \\frac{a \\sqrt{c} \\arctan \\big[ (b/c)^{1/2} r \\big] }{ b^{3/2} }\n",
    "\\end{gather*}\n",
    "$$\n",
    "So:"
   ]
  },
  {
   "cell_type": "markdown",
   "metadata": {},
   "source": [
    "_insert eqns for averaged perp_"
   ]
  },
  {
   "cell_type": "markdown",
   "metadata": {},
   "source": [
    "Number of collisions per second:\n",
    "$$\n",
    "\\begin{gather*}\n",
    "  \\nu = n_e v_e \\pi R^2\n",
    "\\end{gather*}\n",
    "$$    "
   ]
  },
  {
   "cell_type": "code",
   "execution_count": 83,
   "metadata": {},
   "outputs": [
    {
     "data": {
      "image/png": "[encoded data removed]",
      "text/latex": [
       "$$\\nu = \\pi R^{2} n_{e} v_{e}$$"
      ],
      "text/plain": [
       "       2      \n",
       "ν = π⋅R ⋅nₑ⋅vₑ"
      ]
     },
     "metadata": {},
     "output_type": "display_data"
    },
    {
     "data": {
      "image/png": "[encoded data removed]",
      "text/latex": [
       "$$a_{prll} = \\frac{2 \\pi}{M} m n_{e} \\rho_{0}^{2} v_{e}^{2} \\left(- \\log{\\left (\\rho_{0}^{2} \\right )} + \\log{\\left (R^{2} + \\rho_{0}^{2} \\right )}\\right)$$"
      ],
      "text/plain": [
       "                   2   2 ⎛     ⎛  2⎞      ⎛ 2     2⎞⎞\n",
       "        2⋅π⋅m⋅nₑ⋅ρ₀ ⋅vₑ ⋅⎝- log⎝ρ₀ ⎠ + log⎝R  + ρ₀ ⎠⎠\n",
       "aₚᵣₗₗ = ─────────────────────────────────────────────\n",
       "                              M                      "
      ]
     },
     "metadata": {},
     "output_type": "display_data"
    }
   ],
   "source": [
    "nu_eq = Eq(nu, n_e * v_e * pi * R**2 )\n",
    "display( nu_eq )\n",
    "aprll_eq = Eq( av_a_prll, simplify( av_dv_i_prll * nu_eq.rhs ) )\n",
    "display( aprll_eq )"
   ]
  }
 ],
 "metadata": {
  "kernelspec": {
   "display_name": "Python 3",
   "language": "python",
   "name": "python3"
  },
  "language_info": {
   "codemirror_mode": {
    "name": "ipython",
    "version": 3
   },
   "file_extension": ".py",
   "mimetype": "text/x-python",
   "name": "python",
   "nbconvert_exporter": "python",
   "pygments_lexer": "ipython3",
   "version": "3.4.2"
  }
 },
 "nbformat": 4,
 "nbformat_minor": 2
}
